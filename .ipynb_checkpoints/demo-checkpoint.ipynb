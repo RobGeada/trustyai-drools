{
 "cells": [
  {
   "cell_type": "markdown",
   "metadata": {},
   "source": [
    "# Load Jars + Imports"
   ]
  },
  {
   "cell_type": "code",
   "execution_count": 16,
   "metadata": {},
   "outputs": [],
   "source": [
    "%jars target/trustyai-drools-1.0-SNAPSHOT.jar\n",
    "%jars target/lib/*"
   ]
  },
  {
   "cell_type": "code",
   "execution_count": 7,
   "metadata": {},
   "outputs": [],
   "source": [
    "import drools_integrators.DroolsWrapper;\n",
    "import rulebases.buspass.Person;\n",
    "import org.kie.api.KieServices;\n",
    "import org.kie.api.runtime.KieContainer;\n",
    "import org.kie.kogito.explainability.local.counterfactual.CounterfactualConfig;\n",
    "import org.kie.kogito.explainability.local.counterfactual.CounterfactualExplainer;\n",
    "import org.kie.kogito.explainability.local.counterfactual.CounterfactualResult;\n",
    "import org.kie.kogito.explainability.local.counterfactual.SolverConfigBuilder;\n",
    "import org.kie.kogito.explainability.local.counterfactual.entities.CounterfactualEntity;\n",
    "import org.kie.kogito.explainability.model.CounterfactualPrediction;\n",
    "import org.kie.kogito.explainability.model.Feature;\n",
    "import org.kie.kogito.explainability.model.Output;\n",
    "import org.kie.kogito.explainability.model.Prediction;\n",
    "import org.kie.kogito.explainability.model.PredictionInput;\n",
    "import org.kie.kogito.explainability.model.PredictionOutput;\n",
    "import org.kie.kogito.explainability.model.PredictionProvider;\n",
    "import org.kie.kogito.explainability.model.Type;\n",
    "import org.kie.kogito.explainability.model.Value;\n",
    "import org.kie.kogito.explainability.model.domain.NumericalFeatureDomain;\n",
    "import org.optaplanner.core.config.solver.EnvironmentMode;\n",
    "import org.optaplanner.core.config.solver.SolverConfig;\n",
    "import org.optaplanner.core.config.solver.termination.TerminationConfig;\n",
    "\n",
    "import java.util.ArrayList;\n",
    "import java.util.List;\n",
    "import java.util.UUID;\n",
    "import java.util.concurrent.ExecutionException;\n",
    "import java.util.concurrent.TimeUnit;\n",
    "import java.util.concurrent.TimeoutException;\n",
    "import java.util.function.Supplier;\n",
    "import java.util.stream.Collectors;"
   ]
  },
  {
   "cell_type": "code",
   "execution_count": 8,
   "metadata": {},
   "outputs": [],
   "source": [
    "private CounterfactualResult runCounterfactualSearch(Long randomSeed, List<Output> goal,\n",
    "                                                     List<Feature> features,\n",
    "                                                     PredictionProvider model,\n",
    "                                                     double goalThresold) throws InterruptedException, ExecutionException, TimeoutException {\n",
    "    final TerminationConfig terminationConfig = new TerminationConfig().withScoreCalculationCountLimit(30_000L);\n",
    "    final SolverConfig solverConfig = SolverConfigBuilder\n",
    "            .builder().withTerminationConfig(terminationConfig).build();\n",
    "    solverConfig.setRandomSeed(randomSeed);\n",
    "    solverConfig.setEnvironmentMode(EnvironmentMode.REPRODUCIBLE);\n",
    "    final CounterfactualConfig counterfactualConfig = new CounterfactualConfig();\n",
    "    counterfactualConfig.withSolverConfig(solverConfig).withGoalThreshold(goalThresold);\n",
    "    final CounterfactualExplainer explainer = new CounterfactualExplainer(counterfactualConfig);\n",
    "    final PredictionInput input = new PredictionInput(features);\n",
    "    PredictionOutput output = new PredictionOutput(goal);\n",
    "    Prediction prediction =\n",
    "            new CounterfactualPrediction(input,\n",
    "                    output,\n",
    "                    null,\n",
    "                    UUID.randomUUID(),\n",
    "                    600L);\n",
    "    return explainer.explainAsync(prediction, model)\n",
    "            .get(11L, TimeUnit.MINUTES);\n",
    "}"
   ]
  },
  {
   "cell_type": "markdown",
   "metadata": {},
   "source": [
    "# Buspass Demo"
   ]
  },
  {
   "cell_type": "code",
   "execution_count": 21,
   "metadata": {},
   "outputs": [
    {
     "name": "stdout",
     "output_type": "stream",
     "text": [
      "=== FEATURE CANDIDATES ================================================\n",
      "                                                  Feature |  Value\n",
      "---------------------------------------------------------------------\n",
      " rulebases.buspass.Person_0_rulebases.buspass.Person.name |   Yoda\n",
      "  rulebases.buspass.Person_0_rulebases.buspass.Person.age |     10\n",
      "=====================================================================\n",
      "=== FEATURE CANDIDATES ===============================================\n",
      "                                                 Feature |  Value\n",
      "--------------------------------------------------------------------\n",
      " rulebases.buspass.Person_0_rulebases.buspass.Person.age |     10\n",
      "====================================================================\n",
      "=== OUTPUT CANDIDATES ==================================================================\n",
      " Index |                 Rule |                                  Field Name |  Final Value\n",
      "---------------------------------------------------------------------------------------\n",
      "     0 |    IssueChildBusPass |                  rulebases.buspass.Person_1 |      Created\n",
      "     1 |    IssueChildBusPass |                rulebases.buspass.Person.age |           10\n",
      "     2 |    IssueChildBusPass |       rulebases.buspass.IsChild.person.name |         Yoda\n",
      "     3 |    IssueChildBusPass |                 rulebases.buspass.IsChild_4 |      Created\n",
      "     4 |    IssueChildBusPass |        rulebases.buspass.IsChild.person.age |           10\n",
      "     5 |        IsChildPolicy |               rulebases.buspass.Person.name |         Yoda\n",
      "     6 |  PrintNoChildBusPass |   rulebases.buspass.ChildBusPass.person.age |           10\n",
      "     7 |    PrintChildBusPass |   rulebases.buspass.ChildBusPass.person.age |           10\n",
      "     8 |    PrintChildBusPass |  rulebases.buspass.ChildBusPass.person.name |         Yoda\n",
      "     9 |        IsChildPolicy |                  rulebases.buspass.Person_1 |      Created\n",
      "    10 |    PrintChildBusPass |            rulebases.buspass.ChildBusPass_5 |      Created\n",
      "    11 |  PrintNoChildBusPass |  rulebases.buspass.ChildBusPass.person.name |         Yoda\n",
      "    12 |  PrintNoChildBusPass |            rulebases.buspass.ChildBusPass_5 |      Created\n",
      "    13 |        IsChildPolicy |                rulebases.buspass.Person.age |           10\n",
      "    14 |    IssueChildBusPass |               rulebases.buspass.Person.name |         Yoda\n",
      "=======================================================================================\n",
      "== Original Output ==\n"
     ]
    },
    {
     "name": "stderr",
     "output_type": "stream",
     "text": [
      "java.util.concurrent.ExecutionException: java.lang.IllegalArgumentException: The scoreDirectorFactory lacks a configuration for an easyScoreCalculatorClass or an incrementalScoreCalculatorClass.\n",
      "\tat java.base/java.util.concurrent.CompletableFuture.reportGet(CompletableFuture.java:395)\n",
      "\tat java.base/java.util.concurrent.CompletableFuture.get(CompletableFuture.java:2022)\n",
      "\tat REPL.$JShell$48.runCounterfactualSearch($JShell$48.java:66)\n",
      "\tat REPL.$JShell$163.do_it$($JShell$163.java:47)\n",
      "\tat java.base/jdk.internal.reflect.NativeMethodAccessorImpl.invoke0(Native Method)\n",
      "\tat java.base/jdk.internal.reflect.NativeMethodAccessorImpl.invoke(NativeMethodAccessorImpl.java:62)\n",
      "\tat java.base/jdk.internal.reflect.DelegatingMethodAccessorImpl.invoke(DelegatingMethodAccessorImpl.java:43)\n",
      "\tat java.base/java.lang.reflect.Method.invoke(Method.java:566)\n",
      "\tat io.github.spencerpark.ijava.execution.IJavaExecutionControl.lambda$execute$1(IJavaExecutionControl.java:95)\n",
      "\tat java.base/java.util.concurrent.FutureTask.run(FutureTask.java:264)\n",
      "\tat java.base/java.util.concurrent.ThreadPoolExecutor.runWorker(ThreadPoolExecutor.java:1128)\n",
      "\tat java.base/java.util.concurrent.ThreadPoolExecutor$Worker.run(ThreadPoolExecutor.java:628)\n",
      "\tat java.base/java.lang.Thread.run(Thread.java:829)\n",
      "Caused by: java.lang.IllegalArgumentException: The scoreDirectorFactory lacks a configuration for an easyScoreCalculatorClass or an incrementalScoreCalculatorClass.\n",
      "\tat org.optaplanner.core.impl.score.director.ScoreDirectorFactoryFactory.decideMultipleScoreDirectorFactories(ScoreDirectorFactoryFactory.java:148)\n",
      "\tat org.optaplanner.core.impl.score.director.ScoreDirectorFactoryFactory.buildScoreDirectorFactory(ScoreDirectorFactoryFactory.java:55)\n",
      "\tat org.optaplanner.core.impl.solver.DefaultSolverFactory.buildScoreDirectorFactory(DefaultSolverFactory.java:177)\n",
      "\tat org.optaplanner.core.impl.solver.DefaultSolverFactory.<init>(DefaultSolverFactory.java:87)\n",
      "\tat org.optaplanner.core.api.solver.SolverFactory.create(SolverFactory.java:122)\n",
      "\tat org.optaplanner.core.api.solver.SolverManager.create(SolverManager.java:86)\n",
      "\tat org.kie.kogito.explainability.local.counterfactual.CounterfactualConfig.lambda$new$0(CounterfactualConfig.java:38)\n",
      "\tat org.kie.kogito.explainability.local.counterfactual.CounterfactualExplainer.lambda$explainAsync$3(CounterfactualExplainer.java:148)\n",
      "\tat java.base/java.util.concurrent.CompletableFuture$AsyncSupply.run(CompletableFuture.java:1700)\n",
      "\tat java.base/java.util.concurrent.CompletableFuture$AsyncSupply.exec(CompletableFuture.java:1692)\n",
      "\tat java.base/java.util.concurrent.ForkJoinTask.doExec(ForkJoinTask.java:290)\n",
      "\tat java.base/java.util.concurrent.ForkJoinPool$WorkQueue.topLevelExec(ForkJoinPool.java:1020)\n",
      "\tat java.base/java.util.concurrent.ForkJoinPool.scan(ForkJoinPool.java:1656)\n",
      "\tat java.base/java.util.concurrent.ForkJoinPool.runWorker(ForkJoinPool.java:1594)\n",
      "\tat java.base/java.util.concurrent.ForkJoinWorkerThread.run(ForkJoinWorkerThread.java:183)\n"
     ]
    },
    {
     "ename": "EvalException",
     "evalue": "null",
     "output_type": "error",
     "traceback": [
      "\u001b[1m\u001b[31m---------------------------------------------------------------------------\u001b[0m",
      "\u001b[1m\u001b[31mjava.lang.NullPointerException: null\u001b[0m",
      "\u001b[1m\u001b[31m\tat .(#164:1)\u001b[0m"
     ]
    }
   ],
   "source": [
    "KieServices ks = KieServices.Factory.get();\n",
    "KieContainer kieContainer = ks.getKieClasspathContainer();\n",
    "\n",
    "// build the function to supply objects into the model\n",
    "Supplier<List<Object>> objectSupplier = () -> {\n",
    "    Person p = new Person(\"Yoda\", 10);\n",
    "    return List.of(p);\n",
    "};\n",
    "\n",
    "// initialize the wrapper\n",
    "DroolsWrapper droolsWrapper = new DroolsWrapper(kieContainer,\"BussPassGoodKS\", objectSupplier);\n",
    "\n",
    "// setup Feature extraction\n",
    "droolsWrapper.displayFeatureCandidates();\n",
    "droolsWrapper.setFeatureExtractorFilters(List.of(\"(age)\"));\n",
    "droolsWrapper.displayFeatureCandidates();\n",
    "for (Feature f: droolsWrapper.featureExtractor(objectSupplier.get()).keySet()) {\n",
    "    droolsWrapper.addFeatureDomain(f.getName(), NumericalFeatureDomain.create(0., 100.));\n",
    "}\n",
    "PredictionInput samplePI = new PredictionInput(new ArrayList<>(droolsWrapper.featureExtractor(objectSupplier.get()).keySet()));\n",
    "droolsWrapper.generateOutputCandidates(true);\n",
    "droolsWrapper.selectOutputIndicesFromCandidates(List.of(10));\n",
    "\n",
    "// wrap model into predictionprovider\n",
    "PredictionProvider wrappedModel = droolsWrapper.wrap();\n",
    "System.out.println(\"== Original Output ==\");\n",
    "wrappedModel.predictAsync(List.of(samplePI)).get().get(0).getOutputs().get(0).getValue();\n",
    "\n",
    "// run counterfactual\n",
    "List<Output> goal = new ArrayList<>();\n",
    "goal.add(new Output(\"rulebases.buspass.ChildBusPass_5\", Type.CATEGORICAL, new Value(\"Not Created\"), 0.0d));\n",
    "try{\n",
    "    CounterfactualResult result = runCounterfactualSearch(0L, goal, samplePI.getFeatures(), wrappedModel, .01);\n",
    "} catch (Exception e) {\n",
    "    e.printStackTrace();\n",
    "}\n",
    "System.out.println(result.getEntities().stream().map(CounterfactualEntity::asFeature).collect(Collectors.toList()));\n",
    "System.out.println(result.isValid());\n",
    "System.out.println(result.getOutput().get(0).getOutputs());"
   ]
  },
  {
   "cell_type": "code",
   "execution_count": null,
   "metadata": {},
   "outputs": [],
   "source": []
  }
 ],
 "metadata": {
  "kernelspec": {
   "display_name": "Java",
   "language": "java",
   "name": "java"
  },
  "language_info": {
   "codemirror_mode": "java",
   "file_extension": ".jshell",
   "mimetype": "text/x-java-source",
   "name": "Java",
   "pygments_lexer": "java",
   "version": "11.0.12+0"
  },
  "toc": {
   "base_numbering": 1,
   "nav_menu": {},
   "number_sections": true,
   "sideBar": true,
   "skip_h1_title": false,
   "title_cell": "Table of Contents",
   "title_sidebar": "Contents",
   "toc_cell": false,
   "toc_position": {},
   "toc_section_display": true,
   "toc_window_display": false
  }
 },
 "nbformat": 4,
 "nbformat_minor": 4
}
